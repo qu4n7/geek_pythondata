{
 "cells": [
  {
   "cell_type": "markdown",
   "metadata": {},
   "source": [
    "Задание 1\n",
    "Импортируйте библиотеки pandas, numpy и matplotlib.\n",
    "Загрузите \"Boston House Prices dataset\" из встроенных наборов данных библиотеки sklearn. \n",
    "Создайте датафреймы X и y из этих данных.\n",
    "\n",
    "Разбейте эти датафреймы на тренировочные (X_train, y_train) и тестовые (X_test, y_test)\n",
    "с помощью функции train_test_split так, чтобы размер тестовой выборки \n",
    "составлял 20% от всех данных, при этом аргумент random_state должен быть равен 42.\n",
    "\n",
    "Масштабируйте данные с помощью StandardScaler.\n",
    "\n",
    "Постройте модель TSNE на тренировочный данных с параметрами:\n",
    "n_components=2, learning_rate=250, random_state=42.\n",
    "\n",
    "Постройте диаграмму рассеяния на этих данных."
   ]
  },
  {
   "cell_type": "code",
   "execution_count": 129,
   "metadata": {},
   "outputs": [],
   "source": [
    "import pandas as pd\n",
    "import numpy as np\n",
    "import matplotlib.pyplot as plt\n",
    "\n",
    "from sklearn.model_selection import train_test_split\n",
    "\n",
    "from sklearn.manifold import TSNE"
   ]
  },
  {
   "cell_type": "code",
   "execution_count": 130,
   "metadata": {},
   "outputs": [],
   "source": [
    "from sklearn.datasets import load_boston"
   ]
  },
  {
   "cell_type": "code",
   "execution_count": 131,
   "metadata": {},
   "outputs": [
    {
     "data": {
      "text/plain": [
       "dict_keys(['data', 'target', 'feature_names', 'DESCR', 'filename'])"
      ]
     },
     "execution_count": 131,
     "metadata": {},
     "output_type": "execute_result"
    }
   ],
   "source": [
    "load_boston().keys()"
   ]
  },
  {
   "cell_type": "code",
   "execution_count": 132,
   "metadata": {},
   "outputs": [],
   "source": [
    "X = pd.DataFrame(data=load_boston().data, columns = load_boston().feature_names)"
   ]
  },
  {
   "cell_type": "code",
   "execution_count": 133,
   "metadata": {},
   "outputs": [
    {
     "data": {
      "text/html": [
       "<div>\n",
       "<style scoped>\n",
       "    .dataframe tbody tr th:only-of-type {\n",
       "        vertical-align: middle;\n",
       "    }\n",
       "\n",
       "    .dataframe tbody tr th {\n",
       "        vertical-align: top;\n",
       "    }\n",
       "\n",
       "    .dataframe thead th {\n",
       "        text-align: right;\n",
       "    }\n",
       "</style>\n",
       "<table border=\"1\" class=\"dataframe\">\n",
       "  <thead>\n",
       "    <tr style=\"text-align: right;\">\n",
       "      <th></th>\n",
       "      <th>CRIM</th>\n",
       "      <th>ZN</th>\n",
       "      <th>INDUS</th>\n",
       "      <th>CHAS</th>\n",
       "      <th>NOX</th>\n",
       "      <th>RM</th>\n",
       "      <th>AGE</th>\n",
       "      <th>DIS</th>\n",
       "      <th>RAD</th>\n",
       "      <th>TAX</th>\n",
       "      <th>PTRATIO</th>\n",
       "      <th>B</th>\n",
       "      <th>LSTAT</th>\n",
       "    </tr>\n",
       "  </thead>\n",
       "  <tbody>\n",
       "    <tr>\n",
       "      <th>0</th>\n",
       "      <td>0.00632</td>\n",
       "      <td>18.0</td>\n",
       "      <td>2.31</td>\n",
       "      <td>0.0</td>\n",
       "      <td>0.538</td>\n",
       "      <td>6.575</td>\n",
       "      <td>65.2</td>\n",
       "      <td>4.0900</td>\n",
       "      <td>1.0</td>\n",
       "      <td>296.0</td>\n",
       "      <td>15.3</td>\n",
       "      <td>396.90</td>\n",
       "      <td>4.98</td>\n",
       "    </tr>\n",
       "    <tr>\n",
       "      <th>1</th>\n",
       "      <td>0.02731</td>\n",
       "      <td>0.0</td>\n",
       "      <td>7.07</td>\n",
       "      <td>0.0</td>\n",
       "      <td>0.469</td>\n",
       "      <td>6.421</td>\n",
       "      <td>78.9</td>\n",
       "      <td>4.9671</td>\n",
       "      <td>2.0</td>\n",
       "      <td>242.0</td>\n",
       "      <td>17.8</td>\n",
       "      <td>396.90</td>\n",
       "      <td>9.14</td>\n",
       "    </tr>\n",
       "    <tr>\n",
       "      <th>2</th>\n",
       "      <td>0.02729</td>\n",
       "      <td>0.0</td>\n",
       "      <td>7.07</td>\n",
       "      <td>0.0</td>\n",
       "      <td>0.469</td>\n",
       "      <td>7.185</td>\n",
       "      <td>61.1</td>\n",
       "      <td>4.9671</td>\n",
       "      <td>2.0</td>\n",
       "      <td>242.0</td>\n",
       "      <td>17.8</td>\n",
       "      <td>392.83</td>\n",
       "      <td>4.03</td>\n",
       "    </tr>\n",
       "    <tr>\n",
       "      <th>3</th>\n",
       "      <td>0.03237</td>\n",
       "      <td>0.0</td>\n",
       "      <td>2.18</td>\n",
       "      <td>0.0</td>\n",
       "      <td>0.458</td>\n",
       "      <td>6.998</td>\n",
       "      <td>45.8</td>\n",
       "      <td>6.0622</td>\n",
       "      <td>3.0</td>\n",
       "      <td>222.0</td>\n",
       "      <td>18.7</td>\n",
       "      <td>394.63</td>\n",
       "      <td>2.94</td>\n",
       "    </tr>\n",
       "    <tr>\n",
       "      <th>4</th>\n",
       "      <td>0.06905</td>\n",
       "      <td>0.0</td>\n",
       "      <td>2.18</td>\n",
       "      <td>0.0</td>\n",
       "      <td>0.458</td>\n",
       "      <td>7.147</td>\n",
       "      <td>54.2</td>\n",
       "      <td>6.0622</td>\n",
       "      <td>3.0</td>\n",
       "      <td>222.0</td>\n",
       "      <td>18.7</td>\n",
       "      <td>396.90</td>\n",
       "      <td>5.33</td>\n",
       "    </tr>\n",
       "  </tbody>\n",
       "</table>\n",
       "</div>"
      ],
      "text/plain": [
       "      CRIM    ZN  INDUS  CHAS    NOX     RM   AGE     DIS  RAD    TAX  \\\n",
       "0  0.00632  18.0   2.31   0.0  0.538  6.575  65.2  4.0900  1.0  296.0   \n",
       "1  0.02731   0.0   7.07   0.0  0.469  6.421  78.9  4.9671  2.0  242.0   \n",
       "2  0.02729   0.0   7.07   0.0  0.469  7.185  61.1  4.9671  2.0  242.0   \n",
       "3  0.03237   0.0   2.18   0.0  0.458  6.998  45.8  6.0622  3.0  222.0   \n",
       "4  0.06905   0.0   2.18   0.0  0.458  7.147  54.2  6.0622  3.0  222.0   \n",
       "\n",
       "   PTRATIO       B  LSTAT  \n",
       "0     15.3  396.90   4.98  \n",
       "1     17.8  396.90   9.14  \n",
       "2     17.8  392.83   4.03  \n",
       "3     18.7  394.63   2.94  \n",
       "4     18.7  396.90   5.33  "
      ]
     },
     "execution_count": 133,
     "metadata": {},
     "output_type": "execute_result"
    }
   ],
   "source": [
    "X.head()"
   ]
  },
  {
   "cell_type": "code",
   "execution_count": 134,
   "metadata": {},
   "outputs": [],
   "source": [
    "y = pd.DataFrame(data=load_boston().target, columns=['price'])"
   ]
  },
  {
   "cell_type": "code",
   "execution_count": 135,
   "metadata": {
    "scrolled": true
   },
   "outputs": [
    {
     "data": {
      "text/html": [
       "<div>\n",
       "<style scoped>\n",
       "    .dataframe tbody tr th:only-of-type {\n",
       "        vertical-align: middle;\n",
       "    }\n",
       "\n",
       "    .dataframe tbody tr th {\n",
       "        vertical-align: top;\n",
       "    }\n",
       "\n",
       "    .dataframe thead th {\n",
       "        text-align: right;\n",
       "    }\n",
       "</style>\n",
       "<table border=\"1\" class=\"dataframe\">\n",
       "  <thead>\n",
       "    <tr style=\"text-align: right;\">\n",
       "      <th></th>\n",
       "      <th>price</th>\n",
       "    </tr>\n",
       "  </thead>\n",
       "  <tbody>\n",
       "    <tr>\n",
       "      <th>0</th>\n",
       "      <td>24.0</td>\n",
       "    </tr>\n",
       "    <tr>\n",
       "      <th>1</th>\n",
       "      <td>21.6</td>\n",
       "    </tr>\n",
       "    <tr>\n",
       "      <th>2</th>\n",
       "      <td>34.7</td>\n",
       "    </tr>\n",
       "    <tr>\n",
       "      <th>3</th>\n",
       "      <td>33.4</td>\n",
       "    </tr>\n",
       "    <tr>\n",
       "      <th>4</th>\n",
       "      <td>36.2</td>\n",
       "    </tr>\n",
       "  </tbody>\n",
       "</table>\n",
       "</div>"
      ],
      "text/plain": [
       "   price\n",
       "0   24.0\n",
       "1   21.6\n",
       "2   34.7\n",
       "3   33.4\n",
       "4   36.2"
      ]
     },
     "execution_count": 135,
     "metadata": {},
     "output_type": "execute_result"
    }
   ],
   "source": [
    "y.head()"
   ]
  },
  {
   "cell_type": "code",
   "execution_count": 136,
   "metadata": {},
   "outputs": [],
   "source": [
    "X_train, X_test, y_train, y_test = train_test_split(X, y, test_size=0.2, random_state=42)"
   ]
  },
  {
   "cell_type": "code",
   "execution_count": 137,
   "metadata": {},
   "outputs": [
    {
     "name": "stdout",
     "output_type": "stream",
     "text": [
      "X_test, X_test, y_train, y_test: ((102, 13), (102, 13), (404, 1), (102, 1))\n"
     ]
    }
   ],
   "source": [
    "print(f'X_test, X_test, y_train, y_test: {X_test.shape, X_test.shape, y_train.shape, y_test.shape}')"
   ]
  },
  {
   "cell_type": "code",
   "execution_count": 138,
   "metadata": {},
   "outputs": [],
   "source": [
    "from sklearn.preprocessing import StandardScaler"
   ]
  },
  {
   "cell_type": "code",
   "execution_count": 139,
   "metadata": {},
   "outputs": [],
   "source": [
    "scaler = StandardScaler()"
   ]
  },
  {
   "cell_type": "code",
   "execution_count": 140,
   "metadata": {},
   "outputs": [],
   "source": [
    "X_train_scaled = pd.DataFrame(data=scaler.fit_transform(X_train), columns=load_boston().feature_names)\n",
    "X_test_scaled = pd.DataFrame(data=scaler.transform(X_test), columns=load_boston().feature_names)"
   ]
  },
  {
   "cell_type": "code",
   "execution_count": 141,
   "metadata": {},
   "outputs": [
    {
     "data": {
      "text/html": [
       "<div>\n",
       "<style scoped>\n",
       "    .dataframe tbody tr th:only-of-type {\n",
       "        vertical-align: middle;\n",
       "    }\n",
       "\n",
       "    .dataframe tbody tr th {\n",
       "        vertical-align: top;\n",
       "    }\n",
       "\n",
       "    .dataframe thead th {\n",
       "        text-align: right;\n",
       "    }\n",
       "</style>\n",
       "<table border=\"1\" class=\"dataframe\">\n",
       "  <thead>\n",
       "    <tr style=\"text-align: right;\">\n",
       "      <th></th>\n",
       "      <th>CRIM</th>\n",
       "      <th>ZN</th>\n",
       "      <th>INDUS</th>\n",
       "      <th>CHAS</th>\n",
       "      <th>NOX</th>\n",
       "      <th>RM</th>\n",
       "      <th>AGE</th>\n",
       "      <th>DIS</th>\n",
       "      <th>RAD</th>\n",
       "      <th>TAX</th>\n",
       "      <th>PTRATIO</th>\n",
       "      <th>B</th>\n",
       "      <th>LSTAT</th>\n",
       "    </tr>\n",
       "  </thead>\n",
       "  <tbody>\n",
       "    <tr>\n",
       "      <th>count</th>\n",
       "      <td>404.000000</td>\n",
       "      <td>404.000000</td>\n",
       "      <td>404.000000</td>\n",
       "      <td>404.000000</td>\n",
       "      <td>404.000000</td>\n",
       "      <td>404.000000</td>\n",
       "      <td>404.000000</td>\n",
       "      <td>404.000000</td>\n",
       "      <td>404.000000</td>\n",
       "      <td>404.000000</td>\n",
       "      <td>404.000000</td>\n",
       "      <td>404.000000</td>\n",
       "      <td>404.000000</td>\n",
       "    </tr>\n",
       "    <tr>\n",
       "      <th>mean</th>\n",
       "      <td>3.609125</td>\n",
       "      <td>11.569307</td>\n",
       "      <td>10.985050</td>\n",
       "      <td>0.071782</td>\n",
       "      <td>0.556484</td>\n",
       "      <td>6.315891</td>\n",
       "      <td>68.556436</td>\n",
       "      <td>3.808195</td>\n",
       "      <td>9.356436</td>\n",
       "      <td>404.032178</td>\n",
       "      <td>18.318317</td>\n",
       "      <td>356.278342</td>\n",
       "      <td>12.457351</td>\n",
       "    </tr>\n",
       "    <tr>\n",
       "      <th>std</th>\n",
       "      <td>8.875058</td>\n",
       "      <td>23.152481</td>\n",
       "      <td>6.894618</td>\n",
       "      <td>0.258447</td>\n",
       "      <td>0.117704</td>\n",
       "      <td>0.709452</td>\n",
       "      <td>27.994922</td>\n",
       "      <td>2.131226</td>\n",
       "      <td>8.589721</td>\n",
       "      <td>166.172655</td>\n",
       "      <td>2.228701</td>\n",
       "      <td>91.566533</td>\n",
       "      <td>7.110381</td>\n",
       "    </tr>\n",
       "    <tr>\n",
       "      <th>min</th>\n",
       "      <td>0.009060</td>\n",
       "      <td>0.000000</td>\n",
       "      <td>0.740000</td>\n",
       "      <td>0.000000</td>\n",
       "      <td>0.385000</td>\n",
       "      <td>3.863000</td>\n",
       "      <td>2.900000</td>\n",
       "      <td>1.129600</td>\n",
       "      <td>1.000000</td>\n",
       "      <td>187.000000</td>\n",
       "      <td>12.600000</td>\n",
       "      <td>0.320000</td>\n",
       "      <td>1.730000</td>\n",
       "    </tr>\n",
       "    <tr>\n",
       "      <th>25%</th>\n",
       "      <td>0.081437</td>\n",
       "      <td>0.000000</td>\n",
       "      <td>5.130000</td>\n",
       "      <td>0.000000</td>\n",
       "      <td>0.452000</td>\n",
       "      <td>5.890500</td>\n",
       "      <td>45.550000</td>\n",
       "      <td>2.087875</td>\n",
       "      <td>4.000000</td>\n",
       "      <td>279.000000</td>\n",
       "      <td>16.800000</td>\n",
       "      <td>375.472500</td>\n",
       "      <td>6.772500</td>\n",
       "    </tr>\n",
       "    <tr>\n",
       "      <th>50%</th>\n",
       "      <td>0.261390</td>\n",
       "      <td>0.000000</td>\n",
       "      <td>8.560000</td>\n",
       "      <td>0.000000</td>\n",
       "      <td>0.538000</td>\n",
       "      <td>6.210000</td>\n",
       "      <td>77.700000</td>\n",
       "      <td>3.175750</td>\n",
       "      <td>5.000000</td>\n",
       "      <td>330.000000</td>\n",
       "      <td>18.700000</td>\n",
       "      <td>391.305000</td>\n",
       "      <td>10.925000</td>\n",
       "    </tr>\n",
       "    <tr>\n",
       "      <th>75%</th>\n",
       "      <td>3.202962</td>\n",
       "      <td>20.000000</td>\n",
       "      <td>18.100000</td>\n",
       "      <td>0.000000</td>\n",
       "      <td>0.631000</td>\n",
       "      <td>6.636750</td>\n",
       "      <td>93.650000</td>\n",
       "      <td>5.400800</td>\n",
       "      <td>12.000000</td>\n",
       "      <td>666.000000</td>\n",
       "      <td>20.200000</td>\n",
       "      <td>395.755000</td>\n",
       "      <td>16.372500</td>\n",
       "    </tr>\n",
       "    <tr>\n",
       "      <th>max</th>\n",
       "      <td>88.976200</td>\n",
       "      <td>100.000000</td>\n",
       "      <td>27.740000</td>\n",
       "      <td>1.000000</td>\n",
       "      <td>0.871000</td>\n",
       "      <td>8.780000</td>\n",
       "      <td>100.000000</td>\n",
       "      <td>12.126500</td>\n",
       "      <td>24.000000</td>\n",
       "      <td>711.000000</td>\n",
       "      <td>22.000000</td>\n",
       "      <td>396.900000</td>\n",
       "      <td>37.970000</td>\n",
       "    </tr>\n",
       "  </tbody>\n",
       "</table>\n",
       "</div>"
      ],
      "text/plain": [
       "             CRIM          ZN       INDUS        CHAS         NOX          RM  \\\n",
       "count  404.000000  404.000000  404.000000  404.000000  404.000000  404.000000   \n",
       "mean     3.609125   11.569307   10.985050    0.071782    0.556484    6.315891   \n",
       "std      8.875058   23.152481    6.894618    0.258447    0.117704    0.709452   \n",
       "min      0.009060    0.000000    0.740000    0.000000    0.385000    3.863000   \n",
       "25%      0.081437    0.000000    5.130000    0.000000    0.452000    5.890500   \n",
       "50%      0.261390    0.000000    8.560000    0.000000    0.538000    6.210000   \n",
       "75%      3.202962   20.000000   18.100000    0.000000    0.631000    6.636750   \n",
       "max     88.976200  100.000000   27.740000    1.000000    0.871000    8.780000   \n",
       "\n",
       "              AGE         DIS         RAD         TAX     PTRATIO           B  \\\n",
       "count  404.000000  404.000000  404.000000  404.000000  404.000000  404.000000   \n",
       "mean    68.556436    3.808195    9.356436  404.032178   18.318317  356.278342   \n",
       "std     27.994922    2.131226    8.589721  166.172655    2.228701   91.566533   \n",
       "min      2.900000    1.129600    1.000000  187.000000   12.600000    0.320000   \n",
       "25%     45.550000    2.087875    4.000000  279.000000   16.800000  375.472500   \n",
       "50%     77.700000    3.175750    5.000000  330.000000   18.700000  391.305000   \n",
       "75%     93.650000    5.400800   12.000000  666.000000   20.200000  395.755000   \n",
       "max    100.000000   12.126500   24.000000  711.000000   22.000000  396.900000   \n",
       "\n",
       "            LSTAT  \n",
       "count  404.000000  \n",
       "mean    12.457351  \n",
       "std      7.110381  \n",
       "min      1.730000  \n",
       "25%      6.772500  \n",
       "50%     10.925000  \n",
       "75%     16.372500  \n",
       "max     37.970000  "
      ]
     },
     "execution_count": 141,
     "metadata": {},
     "output_type": "execute_result"
    }
   ],
   "source": [
    "X_train.describe()"
   ]
  },
  {
   "cell_type": "code",
   "execution_count": 142,
   "metadata": {},
   "outputs": [
    {
     "data": {
      "text/html": [
       "<div>\n",
       "<style scoped>\n",
       "    .dataframe tbody tr th:only-of-type {\n",
       "        vertical-align: middle;\n",
       "    }\n",
       "\n",
       "    .dataframe tbody tr th {\n",
       "        vertical-align: top;\n",
       "    }\n",
       "\n",
       "    .dataframe thead th {\n",
       "        text-align: right;\n",
       "    }\n",
       "</style>\n",
       "<table border=\"1\" class=\"dataframe\">\n",
       "  <thead>\n",
       "    <tr style=\"text-align: right;\">\n",
       "      <th></th>\n",
       "      <th>CRIM</th>\n",
       "      <th>ZN</th>\n",
       "      <th>INDUS</th>\n",
       "      <th>CHAS</th>\n",
       "      <th>NOX</th>\n",
       "      <th>RM</th>\n",
       "      <th>AGE</th>\n",
       "      <th>DIS</th>\n",
       "      <th>RAD</th>\n",
       "      <th>TAX</th>\n",
       "      <th>PTRATIO</th>\n",
       "      <th>B</th>\n",
       "      <th>LSTAT</th>\n",
       "    </tr>\n",
       "  </thead>\n",
       "  <tbody>\n",
       "    <tr>\n",
       "      <th>count</th>\n",
       "      <td>4.040000e+02</td>\n",
       "      <td>4.040000e+02</td>\n",
       "      <td>4.040000e+02</td>\n",
       "      <td>4.040000e+02</td>\n",
       "      <td>4.040000e+02</td>\n",
       "      <td>4.040000e+02</td>\n",
       "      <td>4.040000e+02</td>\n",
       "      <td>4.040000e+02</td>\n",
       "      <td>4.040000e+02</td>\n",
       "      <td>4.040000e+02</td>\n",
       "      <td>4.040000e+02</td>\n",
       "      <td>4.040000e+02</td>\n",
       "      <td>4.040000e+02</td>\n",
       "    </tr>\n",
       "    <tr>\n",
       "      <th>mean</th>\n",
       "      <td>-1.842585e-16</td>\n",
       "      <td>5.056461e-17</td>\n",
       "      <td>3.074548e-15</td>\n",
       "      <td>-5.056461e-17</td>\n",
       "      <td>-5.221483e-15</td>\n",
       "      <td>-4.031016e-15</td>\n",
       "      <td>-1.001124e-15</td>\n",
       "      <td>-3.176777e-16</td>\n",
       "      <td>-3.654942e-17</td>\n",
       "      <td>-1.534457e-16</td>\n",
       "      <td>2.005876e-14</td>\n",
       "      <td>5.754473e-15</td>\n",
       "      <td>-1.853578e-16</td>\n",
       "    </tr>\n",
       "    <tr>\n",
       "      <th>std</th>\n",
       "      <td>1.001240e+00</td>\n",
       "      <td>1.001240e+00</td>\n",
       "      <td>1.001240e+00</td>\n",
       "      <td>1.001240e+00</td>\n",
       "      <td>1.001240e+00</td>\n",
       "      <td>1.001240e+00</td>\n",
       "      <td>1.001240e+00</td>\n",
       "      <td>1.001240e+00</td>\n",
       "      <td>1.001240e+00</td>\n",
       "      <td>1.001240e+00</td>\n",
       "      <td>1.001240e+00</td>\n",
       "      <td>1.001240e+00</td>\n",
       "      <td>1.001240e+00</td>\n",
       "    </tr>\n",
       "    <tr>\n",
       "      <th>min</th>\n",
       "      <td>-4.061414e-01</td>\n",
       "      <td>-5.003201e-01</td>\n",
       "      <td>-1.487791e+00</td>\n",
       "      <td>-2.780887e-01</td>\n",
       "      <td>-1.458711e+00</td>\n",
       "      <td>-3.461733e+00</td>\n",
       "      <td>-2.348206e+00</td>\n",
       "      <td>-1.258391e+00</td>\n",
       "      <td>-9.740476e-01</td>\n",
       "      <td>-1.307684e+00</td>\n",
       "      <td>-2.568944e+00</td>\n",
       "      <td>-3.892249e+00</td>\n",
       "      <td>-1.510559e+00</td>\n",
       "    </tr>\n",
       "    <tr>\n",
       "      <th>25%</th>\n",
       "      <td>-3.979761e-01</td>\n",
       "      <td>-5.003201e-01</td>\n",
       "      <td>-8.502733e-01</td>\n",
       "      <td>-2.780887e-01</td>\n",
       "      <td>-8.887828e-01</td>\n",
       "      <td>-6.003488e-01</td>\n",
       "      <td>-8.228264e-01</td>\n",
       "      <td>-8.081981e-01</td>\n",
       "      <td>-6.243599e-01</td>\n",
       "      <td>-7.533563e-01</td>\n",
       "      <td>-6.821011e-01</td>\n",
       "      <td>2.098797e-01</td>\n",
       "      <td>-8.005057e-01</td>\n",
       "    </tr>\n",
       "    <tr>\n",
       "      <th>50%</th>\n",
       "      <td>-3.776748e-01</td>\n",
       "      <td>-5.003201e-01</td>\n",
       "      <td>-3.521669e-01</td>\n",
       "      <td>-2.780887e-01</td>\n",
       "      <td>-1.572334e-01</td>\n",
       "      <td>-1.494427e-01</td>\n",
       "      <td>3.270201e-01</td>\n",
       "      <td>-2.971196e-01</td>\n",
       "      <td>-5.077973e-01</td>\n",
       "      <td>-4.460660e-01</td>\n",
       "      <td>1.714705e-01</td>\n",
       "      <td>3.830012e-01</td>\n",
       "      <td>-2.157763e-01</td>\n",
       "    </tr>\n",
       "    <tr>\n",
       "      <th>75%</th>\n",
       "      <td>-4.582119e-02</td>\n",
       "      <td>3.645893e-01</td>\n",
       "      <td>1.033237e+00</td>\n",
       "      <td>-2.780887e-01</td>\n",
       "      <td>6.338607e-01</td>\n",
       "      <td>4.528240e-01</td>\n",
       "      <td>8.974727e-01</td>\n",
       "      <td>7.481981e-01</td>\n",
       "      <td>3.081406e-01</td>\n",
       "      <td>1.578434e+00</td>\n",
       "      <td>8.453428e-01</td>\n",
       "      <td>4.316600e-01</td>\n",
       "      <td>5.513070e-01</td>\n",
       "    </tr>\n",
       "    <tr>\n",
       "      <th>max</th>\n",
       "      <td>9.630689e+00</td>\n",
       "      <td>3.824227e+00</td>\n",
       "      <td>2.433163e+00</td>\n",
       "      <td>3.595975e+00</td>\n",
       "      <td>2.675394e+00</td>\n",
       "      <td>3.477564e+00</td>\n",
       "      <td>1.124581e+00</td>\n",
       "      <td>3.907900e+00</td>\n",
       "      <td>1.706891e+00</td>\n",
       "      <td>1.849573e+00</td>\n",
       "      <td>1.653990e+00</td>\n",
       "      <td>4.441800e-01</td>\n",
       "      <td>3.592534e+00</td>\n",
       "    </tr>\n",
       "  </tbody>\n",
       "</table>\n",
       "</div>"
      ],
      "text/plain": [
       "               CRIM            ZN         INDUS          CHAS           NOX  \\\n",
       "count  4.040000e+02  4.040000e+02  4.040000e+02  4.040000e+02  4.040000e+02   \n",
       "mean  -1.842585e-16  5.056461e-17  3.074548e-15 -5.056461e-17 -5.221483e-15   \n",
       "std    1.001240e+00  1.001240e+00  1.001240e+00  1.001240e+00  1.001240e+00   \n",
       "min   -4.061414e-01 -5.003201e-01 -1.487791e+00 -2.780887e-01 -1.458711e+00   \n",
       "25%   -3.979761e-01 -5.003201e-01 -8.502733e-01 -2.780887e-01 -8.887828e-01   \n",
       "50%   -3.776748e-01 -5.003201e-01 -3.521669e-01 -2.780887e-01 -1.572334e-01   \n",
       "75%   -4.582119e-02  3.645893e-01  1.033237e+00 -2.780887e-01  6.338607e-01   \n",
       "max    9.630689e+00  3.824227e+00  2.433163e+00  3.595975e+00  2.675394e+00   \n",
       "\n",
       "                 RM           AGE           DIS           RAD           TAX  \\\n",
       "count  4.040000e+02  4.040000e+02  4.040000e+02  4.040000e+02  4.040000e+02   \n",
       "mean  -4.031016e-15 -1.001124e-15 -3.176777e-16 -3.654942e-17 -1.534457e-16   \n",
       "std    1.001240e+00  1.001240e+00  1.001240e+00  1.001240e+00  1.001240e+00   \n",
       "min   -3.461733e+00 -2.348206e+00 -1.258391e+00 -9.740476e-01 -1.307684e+00   \n",
       "25%   -6.003488e-01 -8.228264e-01 -8.081981e-01 -6.243599e-01 -7.533563e-01   \n",
       "50%   -1.494427e-01  3.270201e-01 -2.971196e-01 -5.077973e-01 -4.460660e-01   \n",
       "75%    4.528240e-01  8.974727e-01  7.481981e-01  3.081406e-01  1.578434e+00   \n",
       "max    3.477564e+00  1.124581e+00  3.907900e+00  1.706891e+00  1.849573e+00   \n",
       "\n",
       "            PTRATIO             B         LSTAT  \n",
       "count  4.040000e+02  4.040000e+02  4.040000e+02  \n",
       "mean   2.005876e-14  5.754473e-15 -1.853578e-16  \n",
       "std    1.001240e+00  1.001240e+00  1.001240e+00  \n",
       "min   -2.568944e+00 -3.892249e+00 -1.510559e+00  \n",
       "25%   -6.821011e-01  2.098797e-01 -8.005057e-01  \n",
       "50%    1.714705e-01  3.830012e-01 -2.157763e-01  \n",
       "75%    8.453428e-01  4.316600e-01  5.513070e-01  \n",
       "max    1.653990e+00  4.441800e-01  3.592534e+00  "
      ]
     },
     "execution_count": 142,
     "metadata": {},
     "output_type": "execute_result"
    }
   ],
   "source": [
    "X_train_scaled.describe()"
   ]
  },
  {
   "cell_type": "code",
   "execution_count": 143,
   "metadata": {},
   "outputs": [],
   "source": [
    "tsne = TSNE(n_components=2, learning_rate=250, random_state=42)"
   ]
  },
  {
   "cell_type": "code",
   "execution_count": 144,
   "metadata": {},
   "outputs": [],
   "source": [
    "X_train_tsne = tsne.fit_transform(X_train_scaled)"
   ]
  },
  {
   "cell_type": "code",
   "execution_count": 145,
   "metadata": {},
   "outputs": [
    {
     "data": {
      "text/html": [
       "<div>\n",
       "<style scoped>\n",
       "    .dataframe tbody tr th:only-of-type {\n",
       "        vertical-align: middle;\n",
       "    }\n",
       "\n",
       "    .dataframe tbody tr th {\n",
       "        vertical-align: top;\n",
       "    }\n",
       "\n",
       "    .dataframe thead th {\n",
       "        text-align: right;\n",
       "    }\n",
       "</style>\n",
       "<table border=\"1\" class=\"dataframe\">\n",
       "  <thead>\n",
       "    <tr style=\"text-align: right;\">\n",
       "      <th></th>\n",
       "      <th>0</th>\n",
       "      <th>1</th>\n",
       "    </tr>\n",
       "  </thead>\n",
       "  <tbody>\n",
       "    <tr>\n",
       "      <th>0</th>\n",
       "      <td>17.645624</td>\n",
       "      <td>28.406218</td>\n",
       "    </tr>\n",
       "    <tr>\n",
       "      <th>1</th>\n",
       "      <td>1.613379</td>\n",
       "      <td>-11.563689</td>\n",
       "    </tr>\n",
       "    <tr>\n",
       "      <th>2</th>\n",
       "      <td>-14.598500</td>\n",
       "      <td>-16.157717</td>\n",
       "    </tr>\n",
       "    <tr>\n",
       "      <th>3</th>\n",
       "      <td>27.653980</td>\n",
       "      <td>24.220755</td>\n",
       "    </tr>\n",
       "    <tr>\n",
       "      <th>4</th>\n",
       "      <td>3.873900</td>\n",
       "      <td>-9.404490</td>\n",
       "    </tr>\n",
       "  </tbody>\n",
       "</table>\n",
       "</div>"
      ],
      "text/plain": [
       "           0          1\n",
       "0  17.645624  28.406218\n",
       "1   1.613379 -11.563689\n",
       "2 -14.598500 -16.157717\n",
       "3  27.653980  24.220755\n",
       "4   3.873900  -9.404490"
      ]
     },
     "execution_count": 145,
     "metadata": {},
     "output_type": "execute_result"
    }
   ],
   "source": [
    "pd.DataFrame(X_train_tsne).head()"
   ]
  },
  {
   "cell_type": "code",
   "execution_count": 146,
   "metadata": {},
   "outputs": [
    {
     "data": {
      "text/plain": [
       "<matplotlib.collections.PathCollection at 0x2b1b74104e0>"
      ]
     },
     "execution_count": 146,
     "metadata": {},
     "output_type": "execute_result"
    },
    {
     "data": {
      "image/png": "[encoded data removed]",
      "text/plain": [
       "<Figure size 1080x720 with 1 Axes>"
      ]
     },
     "metadata": {
      "needs_background": "light"
     },
     "output_type": "display_data"
    }
   ],
   "source": [
    "plt.scatter(X_train_tsne[:,0], X_train_tsne[:,1])"
   ]
  },
  {
   "cell_type": "markdown",
   "metadata": {},
   "source": [
    "Задание 2\n",
    "С помощью KMeans разбейте данные из тренировочного набора на 3 кластера, \n",
    "используйте все признаки из датафрейма X_train.\n",
    "Параметр max_iter должен быть равен 100, random_state сделайте равным 42.\n",
    "\n",
    "Постройте еще раз диаграмму рассеяния на данных, полученных с помощью TSNE,\n",
    "и раскрасьте точки из разных кластеров разными цветами.\n",
    "\n",
    "Вычислите средние значения price и CRIM в разных кластерах.\n"
   ]
  },
  {
   "cell_type": "code",
   "execution_count": 147,
   "metadata": {},
   "outputs": [],
   "source": [
    "from sklearn.cluster import KMeans"
   ]
  },
  {
   "cell_type": "code",
   "execution_count": 148,
   "metadata": {},
   "outputs": [],
   "source": [
    "kmeans = KMeans(n_clusters=3, max_iter=100, random_state=42)"
   ]
  },
  {
   "cell_type": "code",
   "execution_count": 149,
   "metadata": {},
   "outputs": [],
   "source": [
    "labels_train = kmeans.fit_predict(X_train_scaled)"
   ]
  },
  {
   "cell_type": "code",
   "execution_count": 150,
   "metadata": {},
   "outputs": [
    {
     "data": {
      "text/plain": [
       "2    191\n",
       "1    127\n",
       "0     86\n",
       "dtype: int64"
      ]
     },
     "execution_count": 150,
     "metadata": {},
     "output_type": "execute_result"
    }
   ],
   "source": [
    "pd.value_counts(labels_train)"
   ]
  },
  {
   "cell_type": "code",
   "execution_count": 151,
   "metadata": {
    "scrolled": true
   },
   "outputs": [
    {
     "data": {
      "text/plain": [
       "Text(25, 20, 'cluster_2')"
      ]
     },
     "execution_count": 151,
     "metadata": {},
     "output_type": "execute_result"
    },
    {
     "data": {
      "image/png": "[encoded data removed]",
      "text/plain": [
       "<Figure size 1080x720 with 1 Axes>"
      ]
     },
     "metadata": {
      "needs_background": "light"
     },
     "output_type": "display_data"
    }
   ],
   "source": [
    "plt.rcParams['figure.figsize']=(15, 10)\n",
    "plt.scatter(X_train_tsne[:,0], X_train_tsne[:,1], c=labels_train)\n",
    "plt.text(-27,-9,'cluster_0', fontsize=14, color='red')\n",
    "plt.text(-11,5,'cluster_1', fontsize=14, color='red')\n",
    "plt.text(25,20,'cluster_2', fontsize=14, color='red')"
   ]
  },
  {
   "cell_type": "code",
   "execution_count": 152,
   "metadata": {},
   "outputs": [
    {
     "data": {
      "text/plain": [
       "price    27.788372\n",
       "dtype: float64"
      ]
     },
     "execution_count": 152,
     "metadata": {},
     "output_type": "execute_result"
    }
   ],
   "source": [
    "y_train[labels_train==0].mean()"
   ]
  },
  {
   "cell_type": "code",
   "execution_count": 162,
   "metadata": {},
   "outputs": [
    {
     "name": "stdout",
     "output_type": "stream",
     "text": [
      "for cluster #0:\n",
      " CRIM_mean equals: 0.07356558139534886,\n",
      "price    27.788372\n",
      "dtype: float64\n",
      "\n",
      "for cluster #1:\n",
      " CRIM_mean equals: 10.797028425196853,\n",
      "price    16.165354\n",
      "dtype: float64\n",
      "\n",
      "for cluster #2:\n",
      " CRIM_mean equals: 0.42166020942408367,\n",
      "price    24.958115\n",
      "dtype: float64\n",
      "\n"
     ]
    }
   ],
   "source": [
    "for i in range(len(np.unique(labels_train))):\n",
    "    print(f\"for cluster #{i}:\\n CRIM_mean equals: {X_train['CRIM'][labels_train==i].mean()},\\n{y_train[labels_train==i].mean()}\\n\")"
   ]
  },
  {
   "cell_type": "markdown",
   "metadata": {},
   "source": [
    "### я не нашел пока способа, как избавиться от dtype: float64 в выводе выше, если подскажите, буду признателен"
   ]
  },
  {
   "cell_type": "code",
   "execution_count": null,
   "metadata": {},
   "outputs": [],
   "source": [
    "* Задание 3\n",
    "Примените модель KMeans, построенную в предыдущем задании,\n",
    "к данным из тестового набора.\n",
    "\n",
    "Вычислите средние значения price и CRIM в разных кластерах на тестовых данных."
   ]
  },
  {
   "cell_type": "code",
   "execution_count": 163,
   "metadata": {},
   "outputs": [],
   "source": [
    "labels_test = kmeans.predict(X_test_scaled)"
   ]
  },
  {
   "cell_type": "code",
   "execution_count": 165,
   "metadata": {},
   "outputs": [
    {
     "name": "stdout",
     "output_type": "stream",
     "text": [
      "for cluster #0:\n",
      " CRIM_mean equals: 0.062060000000000004,\n",
      "price    31.35\n",
      "dtype: float64\n",
      "\n",
      "for cluster #1:\n",
      " CRIM_mean equals: 10.165531142857143,\n",
      "price    16.437143\n",
      "dtype: float64\n",
      "\n",
      "for cluster #2:\n",
      " CRIM_mean equals: 0.26607882352941176,\n",
      "price    21.860784\n",
      "dtype: float64\n",
      "\n"
     ]
    }
   ],
   "source": [
    "for i in range(len(np.unique(labels_test))):\n",
    "    print(f\"for cluster #{i}:\\n CRIM_mean equals: {X_test['CRIM'][labels_test==i].mean()},\\n{y_test[labels_test==i].mean()}\\n\")"
   ]
  }
 ],
 "metadata": {
  "kernelspec": {
   "display_name": "Python 3",
   "language": "python",
   "name": "python3"
  },
  "language_info": {
   "codemirror_mode": {
    "name": "ipython",
    "version": 3
   },
   "file_extension": ".py",
   "mimetype": "text/x-python",
   "name": "python",
   "nbconvert_exporter": "python",
   "pygments_lexer": "ipython3",
   "version": "3.7.1"
  }
 },
 "nbformat": 4,
 "nbformat_minor": 2
}
